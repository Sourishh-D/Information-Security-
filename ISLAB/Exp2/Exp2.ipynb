{
  "nbformat": 4,
  "nbformat_minor": 0,
  "metadata": {
    "colab": {
      "provenance": [],
      "authorship_tag": "ABX9TyMdNOTb6w83eje2cybjsgEN",
      "include_colab_link": true
    },
    "kernelspec": {
      "name": "python3",
      "display_name": "Python 3"
    },
    "language_info": {
      "name": "python"
    }
  },
  "cells": [
    {
      "cell_type": "markdown",
      "metadata": {
        "id": "view-in-github",
        "colab_type": "text"
      },
      "source": [
        "<a href=\"https://colab.research.google.com/github/Sourishh-D/Information-Security-/blob/main/Exp2.ipynb\" target=\"_parent\"><img src=\"https://colab.research.google.com/assets/colab-badge.svg\" alt=\"Open In Colab\"/></a>"
      ]
    },
    {
      "cell_type": "code",
      "execution_count": 1,
      "metadata": {
        "colab": {
          "base_uri": "https://localhost:8080/"
        },
        "id": "GZAVtfTDdXf5",
        "outputId": "88e3801e-ce88-454d-abd9-b401beef3f60"
      },
      "outputs": [
        {
          "output_type": "stream",
          "name": "stdout",
          "text": [
            "Enter a string:\n",
            "Information Security \n",
            "The byte equivalent of hash is:b'\\xd4\\x1d\\x8c\\xd9\\x8f\\x00\\xb2\\x04\\xe9\\x80\\t\\x98\\xec\\xf8B~'\n",
            "The available algorithms are:{'sha384', 'md5', 'shake_256', 'blake2b', 'sha3_384', 'shake_128', 'sha256', 'sha1', 'sha224', 'sha3_512', 'sha3_256', 'sha512', 'sha3_224', 'blake2s'}\n"
          ]
        }
      ],
      "source": [
        "import hashlib\n",
        "\n",
        "a = input(\"Enter a string:\\n\")\n",
        "result = hashlib.md5()\n",
        "print(\"The byte equivalent of hash is:\", end=\"\")\n",
        "print(result.digest())\n",
        "\n",
        "import hashlib\n",
        "print(\"The available algorithms are:\", end=\"\")\n",
        "print(hashlib.algorithms_guaranteed)\n"
      ]
    }
  ]
}